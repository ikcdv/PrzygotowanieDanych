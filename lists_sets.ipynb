{
  "nbformat": 4,
  "nbformat_minor": 0,
  "metadata": {
    "colab": {
      "name": "lists_sets.ipynb",
      "provenance": [],
      "collapsed_sections": []
    },
    "kernelspec": {
      "name": "python3",
      "display_name": "Python 3"
    },
    "language_info": {
      "name": "python"
    }
  },
  "cells": [
    {
      "cell_type": "markdown",
      "metadata": {
        "id": "NMY9S_E2bHHY"
      },
      "source": [
        "01. List manipulation"
      ]
    },
    {
      "cell_type": "code",
      "metadata": {
        "id": "JSD0EyPyZyDt",
        "colab": {
          "base_uri": "https://localhost:8080/"
        },
        "outputId": "8298ae58-0b0e-43b7-cb07-7aef4cf0078c"
      },
      "source": [
        "# a) Create a list with 5 fruit names\n",
        "fruit_names = ['apple', 'cherry', 'banana', 'grapes', 'watermelon' ]\n",
        "print(fruit_names)"
      ],
      "execution_count": 113,
      "outputs": [
        {
          "output_type": "stream",
          "text": [
            "['apple', 'cherry', 'banana', 'grapes', 'watermelon']\n"
          ],
          "name": "stdout"
        }
      ]
    },
    {
      "cell_type": "code",
      "metadata": {
        "colab": {
          "base_uri": "https://localhost:8080/"
        },
        "id": "jzERmNDmRx-F",
        "outputId": "905ab082-1575-4b6d-d20f-0ad71bdb4003"
      },
      "source": [
        "# b) Extend the fruit_names list with 2 vegatables\n",
        "fruit_names.extend(['onion', 'tomato'])\n",
        "print(fruit_names)"
      ],
      "execution_count": 114,
      "outputs": [
        {
          "output_type": "stream",
          "text": [
            "['apple', 'cherry', 'banana', 'grapes', 'watermelon', 'onion', 'tomato']\n"
          ],
          "name": "stdout"
        }
      ]
    },
    {
      "cell_type": "code",
      "metadata": {
        "colab": {
          "base_uri": "https://localhost:8080/"
        },
        "id": "YaGsYc5wR0vJ",
        "outputId": "8478318b-cfba-49c6-d8c4-174e00de637f"
      },
      "source": [
        "# c) Shuffle the list\n",
        "import random \n",
        "random.shuffle(fruit_names)\n",
        "print(fruit_names)"
      ],
      "execution_count": 115,
      "outputs": [
        {
          "output_type": "stream",
          "text": [
            "['grapes', 'tomato', 'banana', 'watermelon', 'onion', 'cherry', 'apple']\n"
          ],
          "name": "stdout"
        }
      ]
    },
    {
      "cell_type": "code",
      "metadata": {
        "colab": {
          "base_uri": "https://localhost:8080/"
        },
        "id": "MQ9aQz-NR0zq",
        "outputId": "62dc38ad-d600-4d26-933d-65d0b21ce160"
      },
      "source": [
        "# d) Find the position of first vegetable\n",
        "print(fruit_names[4])"
      ],
      "execution_count": 116,
      "outputs": [
        {
          "output_type": "stream",
          "text": [
            "onion\n"
          ],
          "name": "stdout"
        }
      ]
    },
    {
      "cell_type": "code",
      "metadata": {
        "colab": {
          "base_uri": "https://localhost:8080/"
        },
        "id": "xUmyvAJ7R03Y",
        "outputId": "6c59fc23-a001-430e-b8e0-a44bbe01dc00"
      },
      "source": [
        "# e) Remove one fruit\n",
        "fruit_names.remove('apple')\n",
        "print(fruit_names)"
      ],
      "execution_count": 117,
      "outputs": [
        {
          "output_type": "stream",
          "text": [
            "['grapes', 'tomato', 'banana', 'watermelon', 'onion', 'cherry']\n"
          ],
          "name": "stdout"
        }
      ]
    },
    {
      "cell_type": "code",
      "metadata": {
        "colab": {
          "base_uri": "https://localhost:8080/"
        },
        "id": "m39CKrHaR06P",
        "outputId": "b9343c41-3208-4cfb-ecc1-3a0da181bfb4"
      },
      "source": [
        "# f) Print the result\n",
        "print(fruit_names)"
      ],
      "execution_count": 118,
      "outputs": [
        {
          "output_type": "stream",
          "text": [
            "['grapes', 'tomato', 'banana', 'watermelon', 'onion', 'cherry']\n"
          ],
          "name": "stdout"
        }
      ]
    },
    {
      "cell_type": "code",
      "metadata": {
        "colab": {
          "base_uri": "https://localhost:8080/"
        },
        "id": "9C0z1_M4R080",
        "outputId": "230577b0-de60-4bf6-fbaa-9ae464f64448"
      },
      "source": [
        "# g) Sort the list in alphabetical order\n",
        "fruit_names.sort()\n",
        "print(fruit_names)"
      ],
      "execution_count": 120,
      "outputs": [
        {
          "output_type": "stream",
          "text": [
            "['banana', 'cherry', 'grapes', 'onion', 'tomato', 'watermelon']\n"
          ],
          "name": "stdout"
        }
      ]
    },
    {
      "cell_type": "code",
      "metadata": {
        "colab": {
          "base_uri": "https://localhost:8080/"
        },
        "id": "HxZIDgdER0_i",
        "outputId": "87153915-b5e9-4afa-ed35-c39bceb9800e"
      },
      "source": [
        "# h) Print each element of a list using a loop\n",
        "for fruit in fruit_names:\n",
        "  print(fruit)"
      ],
      "execution_count": 121,
      "outputs": [
        {
          "output_type": "stream",
          "text": [
            "banana\n",
            "cherry\n",
            "grapes\n",
            "onion\n",
            "tomato\n",
            "watermelon\n"
          ],
          "name": "stdout"
        }
      ]
    },
    {
      "cell_type": "code",
      "metadata": {
        "id": "sZMJWO-yR75j"
      },
      "source": [
        "# i) Modify above code to be ablet to repeat all above steps \n",
        "#    to get the same results each time"
      ],
      "execution_count": null,
      "outputs": []
    },
    {
      "cell_type": "markdown",
      "metadata": {
        "id": "BcqjrBVhccip"
      },
      "source": [
        "02. Tuples"
      ]
    },
    {
      "cell_type": "code",
      "metadata": {
        "id": "yq9H77O5bbut",
        "colab": {
          "base_uri": "https://localhost:8080/"
        },
        "outputId": "7569d0a7-bc38-4e5e-b5e2-85e9171cb221"
      },
      "source": [
        "first_list = [\"a\" + str(number) for number in range(1, 10)]\n",
        "second_list = [\"b\" + str(number) for number in range(1, 10)]"
      ],
      "execution_count": 123,
      "outputs": [
        {
          "output_type": "stream",
          "text": [
            "('a1', 'a2', 'a3', 'a4', 'a5', 'a6', 'a7', 'a8', 'a9')\n",
            "('b1', 'b2', 'b3', 'b4', 'b5', 'b6', 'b7', 'b8', 'b9')\n",
            "Index of a1 and b1 is egual 0\n",
            "Index of a2 and b2 is egual 1\n",
            "Index of a3 and b3 is egual 2\n",
            "Index of a4 and b4 is egual 3\n",
            "Index of a5 and b5 is egual 4\n",
            "Index of a6 and b6 is egual 5\n",
            "Index of a7 and b7 is egual 6\n",
            "Index of a8 and b8 is egual 7\n",
            "Index of a9 and b9 is egual 8\n"
          ],
          "name": "stdout"
        }
      ]
    },
    {
      "cell_type": "code",
      "metadata": {
        "colab": {
          "base_uri": "https://localhost:8080/"
        },
        "id": "Xjsx2BCFSiMa",
        "outputId": "4a2f85de-2a0b-403a-b617-c8e9270092c2"
      },
      "source": [
        "# Pair up above lists\n",
        "paired_list = first_list + second_list\n",
        "print(paired_list)"
      ],
      "execution_count": 124,
      "outputs": [
        {
          "output_type": "stream",
          "text": [
            "['a1', 'a2', 'a3', 'a4', 'a5', 'a6', 'a7', 'a8', 'a9', 'b1', 'b2', 'b3', 'b4', 'b5', 'b6', 'b7', 'b8', 'b9']\n"
          ],
          "name": "stdout"
        }
      ]
    },
    {
      "cell_type": "code",
      "metadata": {
        "colab": {
          "base_uri": "https://localhost:8080/"
        },
        "id": "tDLjhz86Slj2",
        "outputId": "442ce266-33ef-4320-f664-99fd0e73cd2a"
      },
      "source": [
        "# Using a loop unpack the tuple into variables: first_el, secodn_el\n",
        "# Print the pair position and variables using f-string.\n",
        "# Example:\n",
        "# \"Index of a3 and b3 is equal 2\"\n",
        "\n",
        "def convert(list):\n",
        "  return tuple(list)\n",
        "\n",
        "print(convert(first_list))\n",
        "print(convert(second_list))\n",
        "\n",
        "for i in range(len(first_list)):\n",
        "  print(f\"Index of {first_list[i]} and {second_list[i]} is egual {i}\") "
      ],
      "execution_count": 126,
      "outputs": [
        {
          "output_type": "stream",
          "text": [
            "('a1', 'a2', 'a3', 'a4', 'a5', 'a6', 'a7', 'a8', 'a9')\n",
            "('b1', 'b2', 'b3', 'b4', 'b5', 'b6', 'b7', 'b8', 'b9')\n",
            "Index of a1 and b1 is egual 0\n",
            "Index of a2 and b2 is egual 1\n",
            "Index of a3 and b3 is egual 2\n",
            "Index of a4 and b4 is egual 3\n",
            "Index of a5 and b5 is egual 4\n",
            "Index of a6 and b6 is egual 5\n",
            "Index of a7 and b7 is egual 6\n",
            "Index of a8 and b8 is egual 7\n",
            "Index of a9 and b9 is egual 8\n"
          ],
          "name": "stdout"
        }
      ]
    },
    {
      "cell_type": "markdown",
      "metadata": {
        "id": "NpK3h0cqfft9"
      },
      "source": [
        "3. Sets (unordered & unique data)"
      ]
    },
    {
      "cell_type": "code",
      "metadata": {
        "id": "KR9yn_XtfitI",
        "colab": {
          "base_uri": "https://localhost:8080/"
        },
        "outputId": "e09ea4e3-9c23-40dc-b73e-f773a346a973"
      },
      "source": [
        "fake_names_1 = ['Sherry', 'Mary', 'Matthew', 'Danielle', 'Jeffrey', 'Lauren', 'Keith', \n",
        "                'Carlos', 'Monique', 'Laura', 'Jared', 'Valerie', 'Juan', 'Christopher', \n",
        "                'Erica', 'Dawn', 'Joshua', 'Brandon', 'Stephanie']\n",
        "\n",
        "fake_names_2 = ['Andre', 'Anthony', 'Lauren', 'Douglas', 'Jonathan', 'Richard', \n",
        "                'Alyssa', 'Vincent', 'Travis', 'Clifford', 'Jerry', 'Justin',\n",
        "                'Matthew', 'Jared', 'Erica']\n",
        "\n",
        "fake_names_1.sort()\n",
        "fake_names_2.sort()\n",
        "\n",
        "# Find the overlapping names in above lists\n",
        "import copy\n",
        "\n",
        "overlapping_names = []\n",
        "for elem in copy.deepcopy(fake_names_1):\n",
        "  if elem in fake_names_2:\n",
        "    fake_names_1.pop(fake_names_1.index(elem))\n",
        "    overlapping_names.append(fake_names_2.pop(fake_names_2.index(elem)))\n",
        "\n",
        "print(overlapping_names)"
      ],
      "execution_count": 72,
      "outputs": [
        {
          "output_type": "stream",
          "text": [
            "['Erica', 'Jared', 'Lauren', 'Matthew']\n"
          ],
          "name": "stdout"
        }
      ]
    },
    {
      "cell_type": "code",
      "metadata": {
        "colab": {
          "base_uri": "https://localhost:8080/"
        },
        "id": "F-MHi1liohQW",
        "outputId": "5f326da2-1247-436d-a8d5-e76a86ae9860"
      },
      "source": [
        "# Print number of \"duplicated\" names\n",
        "for i in overlapping_names:\n",
        "  index1 = fake_names_1.index(i)\n",
        "  index2 = fake_names_2.index(i)\n",
        "  print(f\"Index of {i} in fake_name_1: {index1} and fake_name_2: {index2} \") "
      ],
      "execution_count": 82,
      "outputs": [
        {
          "output_type": "stream",
          "text": [
            "Index of Erica in fake_name_1: 14 and fake_name_2: 14 \n",
            "Index of Jared in fake_name_1: 10 and fake_name_2: 13 \n",
            "Index of Lauren in fake_name_1: 5 and fake_name_2: 2 \n",
            "Index of Matthew in fake_name_1: 2 and fake_name_2: 12 \n"
          ],
          "name": "stdout"
        }
      ]
    },
    {
      "cell_type": "code",
      "metadata": {
        "colab": {
          "base_uri": "https://localhost:8080/"
        },
        "id": "c_vbfNvprcDR",
        "outputId": "510fb285-d714-4b8b-cb55-c4bd6d818dca"
      },
      "source": [
        "# Find and print the union of above lists\n",
        "union = []\n",
        "\n",
        "for i in overlapping_names:\n",
        "  union.append(fake_names_1.index(i) + fake_names_2.index(i))\n",
        "print(union)\n",
        "\n",
        "for ele in range(len(union)):\n",
        "  total += union[ele]\n",
        "\n",
        "print('Total: {}'.format(total))"
      ],
      "execution_count": 99,
      "outputs": [
        {
          "output_type": "stream",
          "text": [
            "[28, 23, 7, 14]\n",
            "Total: 86\n"
          ],
          "name": "stdout"
        }
      ]
    },
    {
      "cell_type": "code",
      "metadata": {
        "colab": {
          "base_uri": "https://localhost:8080/"
        },
        "id": "guJjjF4fO2C0",
        "outputId": "f9d5794b-fab8-47bf-e0a8-e6b029c22eaa"
      },
      "source": [
        "# Find and print the difference between lists\n",
        "\n",
        "difference = set(fake_names_1) | set(fake_names_2) - set(fake_names_1) & set(fake_names_2)\n",
        "\n",
        "print(difference)"
      ],
      "execution_count": 112,
      "outputs": [
        {
          "output_type": "stream",
          "text": [
            "{'Justin', 'Jerry', 'Mary', 'Monique', 'Sherry', 'Clifford', 'Joshua', 'Andre', 'Brandon', 'Alyssa', 'Valerie', 'Laura', 'Anthony', 'Jeffrey', 'Dawn', 'Stephanie', 'Travis', 'Richard', 'Keith', 'Douglas', 'Vincent', 'Jonathan', 'Danielle', 'Carlos', 'Christopher', 'Juan'}\n"
          ],
          "name": "stdout"
        }
      ]
    },
    {
      "cell_type": "code",
      "metadata": {
        "id": "66a5lfySQ7V5"
      },
      "source": [
        ""
      ],
      "execution_count": null,
      "outputs": []
    }
  ]
}
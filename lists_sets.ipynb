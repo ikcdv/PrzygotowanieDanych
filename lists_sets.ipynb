{
  "nbformat": 4,
  "nbformat_minor": 0,
  "metadata": {
    "colab": {
      "name": "lists_sets.ipynb",
      "provenance": [],
      "collapsed_sections": []
    },
    "kernelspec": {
      "name": "python3",
      "display_name": "Python 3"
    },
    "language_info": {
      "name": "python"
    }
  },
  "cells": [
    {
      "cell_type": "markdown",
      "metadata": {
        "id": "NMY9S_E2bHHY"
      },
      "source": [
        "01. List manipulation"
      ]
    },
    {
      "cell_type": "code",
      "metadata": {
        "id": "JSD0EyPyZyDt",
        "colab": {
          "base_uri": "https://localhost:8080/"
        },
        "outputId": "053489ff-2026-4e36-c5d5-1505caf91eef"
      },
      "source": [
        "# a) Create a list with 5 fruit names\n",
        "fruit_names = ['apple', 'cherry', 'banana', 'grapes', 'watermelon' ]\n",
        "\n",
        "# b) Extend the fruit_names list with 2 vegatables\n",
        "fruit_names.extend(['onion', 'tomato'])\n",
        "\n",
        "# c) Shuffle the list\n",
        "import random \n",
        "random.shuffle(fruit_names)\n",
        "\n",
        "# d) Find the position of first vegetable\n",
        "print(fruit_names[4])\n",
        "\n",
        "# e) Remove one fruit\n",
        "fruit_names.remove('apple')\n",
        "\n",
        "# f) Print the result\n",
        "print(fruit_names)\n",
        "\n",
        "# g) Sort the list in alphabetical order\n",
        "fruit_names.sort()\n",
        "\n",
        "# h) Print each element of a list using a loop\n",
        "for fruit in fruit_names:\n",
        "  print(fruit)\n",
        "\n",
        "# i) Modify above code to be ablet to repeat all above steps \n",
        "#    to get the same results each time\n"
      ],
      "execution_count": 21,
      "outputs": [
        {
          "output_type": "stream",
          "text": [
            "onion\n",
            "['grapes', 'cherry', 'watermelon', 'onion', 'banana', 'tomato']\n",
            "banana\n",
            "cherry\n",
            "grapes\n",
            "onion\n",
            "tomato\n",
            "watermelon\n"
          ],
          "name": "stdout"
        }
      ]
    },
    {
      "cell_type": "markdown",
      "metadata": {
        "id": "BcqjrBVhccip"
      },
      "source": [
        "02. Tuples"
      ]
    },
    {
      "cell_type": "code",
      "metadata": {
        "id": "yq9H77O5bbut"
      },
      "source": [
        "first_list = [\"a\" + str(number) for number in range(1, 10)]\n",
        "second_list = [\"b\" + str(number) for number in range(1, 10)]\n",
        "\n",
        "# Pair up above lists\n",
        "# paired_list = \n",
        "\n",
        "# Using a loop unpack the tuple into variables: first_el, secodn_el\n",
        "# Print the pair position and variables using f-string.\n",
        "# Example:\n",
        "# \"Index of a3 and b3 is equal 2\""
      ],
      "execution_count": null,
      "outputs": []
    },
    {
      "cell_type": "markdown",
      "metadata": {
        "id": "NpK3h0cqfft9"
      },
      "source": [
        "3. Sets (unordered & unique data)"
      ]
    },
    {
      "cell_type": "code",
      "metadata": {
        "id": "KR9yn_XtfitI"
      },
      "source": [
        "fake_names_1 = ['Sherry', 'Mary', 'Matthew', 'Danielle', 'Jeffrey', 'Lauren', \n",
        "              'Keith', 'Carlos', 'Monique', 'Laura', 'Jared', 'Valerie', 'Juan', \n",
        "              'Christopher', 'Erica', 'Dawn', 'Joshua', 'Brandon', 'Stephanie']\n",
        "\n",
        "fake_names_2 = ['Andre', 'Anthony', 'Lauren', 'Douglas', 'Jonathan', 'Richard', \n",
        "                'Alyssa', 'Vincent', 'Travis', 'Clifford', 'Jerry', 'Justin',\n",
        "                'Matthew', 'Jared', 'Erica']\n",
        "\n",
        "# Find the overlapping names in above lists\n",
        "\n",
        "# Print number of \"duplicated\" names\n",
        "\n",
        "# Find and print the union of above lists\n",
        "\n",
        "# Find and print the difference between lists"
      ],
      "execution_count": null,
      "outputs": []
    }
  ]
}
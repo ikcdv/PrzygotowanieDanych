{
 "cells": [
  {
   "cell_type": "code",
   "execution_count": 4,
   "id": "bca70fe5",
   "metadata": {},
   "outputs": [
    {
     "output_type": "stream",
     "name": "stdout",
     "text": [
      "\n",
      "CommandNotFoundError: No command 'conda active'.\n",
      "Did you mean 'conda activate'?\n",
      "\n",
      "\n",
      "Note: you may need to restart the kernel to use updated packages.\n"
     ]
    }
   ],
   "source": [
    "conda active PrzygotowanieDanych"
   ]
  },
  {
   "cell_type": "code",
   "execution_count": 3,
   "id": "da737681",
   "metadata": {},
   "outputs": [
    {
     "output_type": "stream",
     "name": "stdout",
     "text": [
      "\n     active environment : PrzygotowanieDanych\n    active env location : /home/iwona/anaconda3/envs/PrzygotowanieDanych\n            shell level : 2\n       user config file : /home/iwona/.condarc\n populated config files : /home/iwona/.condarc\n          conda version : 4.9.2\n    conda-build version : 3.20.5\n         python version : 3.8.5.final.0\n       virtual packages : __glibc=2.31=0\n                          __unix=0=0\n                          __archspec=1=x86_64\n       base environment : /home/iwona/anaconda3  (writable)\n           channel URLs : https://repo.anaconda.com/pkgs/main/linux-64\n                          https://repo.anaconda.com/pkgs/main/noarch\n                          https://repo.anaconda.com/pkgs/r/linux-64\n                          https://repo.anaconda.com/pkgs/r/noarch\n          package cache : /home/iwona/anaconda3/pkgs\n                          /home/iwona/.conda/pkgs\n       envs directories : /home/iwona/anaconda3/envs\n                          /home/iwona/.conda/envs\n               platform : linux-64\n             user-agent : conda/4.9.2 requests/2.24.0 CPython/3.8.5 Linux/5.8.0-50-generic ubuntu/20.04.2 glibc/2.31\n                UID:GID : 1000:1000\n             netrc file : None\n           offline mode : False\n\n"
     ]
    }
   ],
   "source": [
    "!conda info"
   ]
  },
  {
   "cell_type": "code",
   "execution_count": 9,
   "id": "10f4b484",
   "metadata": {},
   "outputs": [],
   "source": []
  },
  {
   "cell_type": "code",
   "execution_count": null,
   "id": "33023154",
   "metadata": {},
   "outputs": [],
   "source": []
  }
 ],
 "metadata": {
  "kernelspec": {
   "name": "python385jvsc74a57bd0ad754039f08c050a6b73f8a1369c0a143f7740ea1dc4673dddaab3b3985e76ab",
   "display_name": "Python 3.8.5 64-bit ('PrzygotowanieDanych': conda)"
  },
  "language_info": {
   "codemirror_mode": {
    "name": "ipython",
    "version": 3
   },
   "file_extension": ".py",
   "mimetype": "text/x-python",
   "name": "python",
   "nbconvert_exporter": "python",
   "pygments_lexer": "ipython3",
   "version": "3.8.5"
  }
 },
 "nbformat": 4,
 "nbformat_minor": 5
}